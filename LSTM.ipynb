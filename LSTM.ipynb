{
 "cells": [
  {
   "cell_type": "code",
   "execution_count": 1,
   "metadata": {},
   "outputs": [
    {
     "name": "stderr",
     "output_type": "stream",
     "text": [
      "2024-04-08 11:04:55.597945: E external/local_xla/xla/stream_executor/cuda/cuda_dnn.cc:9261] Unable to register cuDNN factory: Attempting to register factory for plugin cuDNN when one has already been registered\n",
      "2024-04-08 11:04:55.598016: E external/local_xla/xla/stream_executor/cuda/cuda_fft.cc:607] Unable to register cuFFT factory: Attempting to register factory for plugin cuFFT when one has already been registered\n",
      "2024-04-08 11:04:55.599835: E external/local_xla/xla/stream_executor/cuda/cuda_blas.cc:1515] Unable to register cuBLAS factory: Attempting to register factory for plugin cuBLAS when one has already been registered\n",
      "2024-04-08 11:04:55.609304: I tensorflow/core/platform/cpu_feature_guard.cc:182] This TensorFlow binary is optimized to use available CPU instructions in performance-critical operations.\n",
      "To enable the following instructions: AVX2 FMA, in other operations, rebuild TensorFlow with the appropriate compiler flags.\n",
      "2024-04-08 11:04:56.905007: W tensorflow/compiler/tf2tensorrt/utils/py_utils.cc:38] TF-TRT Warning: Could not find TensorRT\n"
     ]
    }
   ],
   "source": [
    "import pandas as pd\n",
    "import tensorflow as tf\n",
    "import matplotlib.pyplot as plt\n",
    "import numpy as np\n",
    "from sklearn.preprocessing import MinMaxScaler\n",
    "from sklearn.metrics import mean_squared_error\n",
    "from tensorflow.keras.models import Sequential\n",
    "from tensorflow.keras.layers import Dense, LSTM\n",
    "import math"
   ]
  },
  {
   "cell_type": "markdown",
   "metadata": {},
   "source": [
    "# Data Preprocessing"
   ]
  },
  {
   "cell_type": "code",
   "execution_count": 2,
   "metadata": {},
   "outputs": [
    {
     "data": {
      "text/html": [
       "<div>\n",
       "<style scoped>\n",
       "    .dataframe tbody tr th:only-of-type {\n",
       "        vertical-align: middle;\n",
       "    }\n",
       "\n",
       "    .dataframe tbody tr th {\n",
       "        vertical-align: top;\n",
       "    }\n",
       "\n",
       "    .dataframe thead th {\n",
       "        text-align: right;\n",
       "    }\n",
       "</style>\n",
       "<table border=\"1\" class=\"dataframe\">\n",
       "  <thead>\n",
       "    <tr style=\"text-align: right;\">\n",
       "      <th></th>\n",
       "      <th>symbol</th>\n",
       "      <th>date</th>\n",
       "      <th>close</th>\n",
       "      <th>high</th>\n",
       "      <th>low</th>\n",
       "      <th>open</th>\n",
       "      <th>volume</th>\n",
       "      <th>adjClose</th>\n",
       "      <th>adjHigh</th>\n",
       "      <th>adjLow</th>\n",
       "      <th>adjOpen</th>\n",
       "      <th>adjVolume</th>\n",
       "      <th>divCash</th>\n",
       "      <th>splitFactor</th>\n",
       "    </tr>\n",
       "  </thead>\n",
       "  <tbody>\n",
       "    <tr>\n",
       "      <th>0</th>\n",
       "      <td>AAPL</td>\n",
       "      <td>2019-04-08 00:00:00+00:00</td>\n",
       "      <td>200.10</td>\n",
       "      <td>200.23</td>\n",
       "      <td>196.34</td>\n",
       "      <td>196.42</td>\n",
       "      <td>25881697</td>\n",
       "      <td>48.157508</td>\n",
       "      <td>48.188795</td>\n",
       "      <td>47.252599</td>\n",
       "      <td>47.271853</td>\n",
       "      <td>103526788</td>\n",
       "      <td>0.0</td>\n",
       "      <td>1.0</td>\n",
       "    </tr>\n",
       "    <tr>\n",
       "      <th>1</th>\n",
       "      <td>AAPL</td>\n",
       "      <td>2019-04-09 00:00:00+00:00</td>\n",
       "      <td>199.50</td>\n",
       "      <td>202.85</td>\n",
       "      <td>199.23</td>\n",
       "      <td>200.32</td>\n",
       "      <td>35768237</td>\n",
       "      <td>48.013108</td>\n",
       "      <td>48.819343</td>\n",
       "      <td>47.948128</td>\n",
       "      <td>48.210455</td>\n",
       "      <td>143072948</td>\n",
       "      <td>0.0</td>\n",
       "      <td>1.0</td>\n",
       "    </tr>\n",
       "    <tr>\n",
       "      <th>2</th>\n",
       "      <td>AAPL</td>\n",
       "      <td>2019-04-10 00:00:00+00:00</td>\n",
       "      <td>200.62</td>\n",
       "      <td>200.74</td>\n",
       "      <td>198.18</td>\n",
       "      <td>198.68</td>\n",
       "      <td>21695288</td>\n",
       "      <td>48.282655</td>\n",
       "      <td>48.311535</td>\n",
       "      <td>47.695427</td>\n",
       "      <td>47.815761</td>\n",
       "      <td>86781152</td>\n",
       "      <td>0.0</td>\n",
       "      <td>1.0</td>\n",
       "    </tr>\n",
       "    <tr>\n",
       "      <th>3</th>\n",
       "      <td>AAPL</td>\n",
       "      <td>2019-04-11 00:00:00+00:00</td>\n",
       "      <td>198.95</td>\n",
       "      <td>201.00</td>\n",
       "      <td>198.44</td>\n",
       "      <td>200.85</td>\n",
       "      <td>20900808</td>\n",
       "      <td>47.880741</td>\n",
       "      <td>48.374109</td>\n",
       "      <td>47.758001</td>\n",
       "      <td>48.338009</td>\n",
       "      <td>83603232</td>\n",
       "      <td>0.0</td>\n",
       "      <td>1.0</td>\n",
       "    </tr>\n",
       "    <tr>\n",
       "      <th>4</th>\n",
       "      <td>AAPL</td>\n",
       "      <td>2019-04-12 00:00:00+00:00</td>\n",
       "      <td>198.87</td>\n",
       "      <td>200.14</td>\n",
       "      <td>196.21</td>\n",
       "      <td>199.20</td>\n",
       "      <td>27760668</td>\n",
       "      <td>47.861487</td>\n",
       "      <td>48.167135</td>\n",
       "      <td>47.221313</td>\n",
       "      <td>47.940908</td>\n",
       "      <td>111042672</td>\n",
       "      <td>0.0</td>\n",
       "      <td>1.0</td>\n",
       "    </tr>\n",
       "  </tbody>\n",
       "</table>\n",
       "</div>"
      ],
      "text/plain": [
       "  symbol                       date   close    high     low    open    volume  \\\n",
       "0   AAPL  2019-04-08 00:00:00+00:00  200.10  200.23  196.34  196.42  25881697   \n",
       "1   AAPL  2019-04-09 00:00:00+00:00  199.50  202.85  199.23  200.32  35768237   \n",
       "2   AAPL  2019-04-10 00:00:00+00:00  200.62  200.74  198.18  198.68  21695288   \n",
       "3   AAPL  2019-04-11 00:00:00+00:00  198.95  201.00  198.44  200.85  20900808   \n",
       "4   AAPL  2019-04-12 00:00:00+00:00  198.87  200.14  196.21  199.20  27760668   \n",
       "\n",
       "    adjClose    adjHigh     adjLow    adjOpen  adjVolume  divCash  splitFactor  \n",
       "0  48.157508  48.188795  47.252599  47.271853  103526788      0.0          1.0  \n",
       "1  48.013108  48.819343  47.948128  48.210455  143072948      0.0          1.0  \n",
       "2  48.282655  48.311535  47.695427  47.815761   86781152      0.0          1.0  \n",
       "3  47.880741  48.374109  47.758001  48.338009   83603232      0.0          1.0  \n",
       "4  47.861487  48.167135  47.221313  47.940908  111042672      0.0          1.0  "
      ]
     },
     "execution_count": 2,
     "metadata": {},
     "output_type": "execute_result"
    }
   ],
   "source": [
    "df = pd.read_csv('AAPL.csv')\n",
    "df.head()"
   ]
  },
  {
   "cell_type": "code",
   "execution_count": 3,
   "metadata": {},
   "outputs": [
    {
     "data": {
      "text/plain": [
       "0    200.10\n",
       "1    199.50\n",
       "2    200.62\n",
       "3    198.95\n",
       "4    198.87\n",
       "Name: close, dtype: float64"
      ]
     },
     "execution_count": 3,
     "metadata": {},
     "output_type": "execute_result"
    }
   ],
   "source": [
    "df_close = df.reset_index()['close']\n",
    "df_close.head()"
   ]
  },
  {
   "cell_type": "code",
   "execution_count": 4,
   "metadata": {},
   "outputs": [
    {
     "data": {
      "text/plain": [
       "[<matplotlib.lines.Line2D at 0x7f5bf08e3250>]"
      ]
     },
     "execution_count": 4,
     "metadata": {},
     "output_type": "execute_result"
    },
    {
     "data": {
      "image/png": "[encoded data removed]",
      "text/plain": [
       "<Figure size 640x480 with 1 Axes>"
      ]
     },
     "metadata": {},
     "output_type": "display_data"
    }
   ],
   "source": [
    "plt.plot(df_close)"
   ]
  },
  {
   "cell_type": "code",
   "execution_count": 5,
   "metadata": {},
   "outputs": [
    {
     "name": "stdout",
     "output_type": "stream",
     "text": [
      "[[0.23358798]\n",
      " [0.23208516]\n",
      " [0.23489042]\n",
      " ...\n",
      " [0.15731997]\n",
      " [0.15524108]\n",
      " [0.15714465]]\n"
     ]
    }
   ],
   "source": [
    "scaler = MinMaxScaler(feature_range=(0,1))\n",
    "df_close = scaler.fit_transform(np.array(df_close).reshape(-1,1))\n",
    "print(df_close)"
   ]
  },
  {
   "cell_type": "code",
   "execution_count": 6,
   "metadata": {},
   "outputs": [
    {
     "data": {
      "text/plain": [
       "((817, 1), (441, 1))"
      ]
     },
     "execution_count": 6,
     "metadata": {},
     "output_type": "execute_result"
    }
   ],
   "source": [
    "train_size = int(len(df_close)*0.65)\n",
    "test_size = len(df_close)-train_size\n",
    "train_data, test_data = df_close[0:train_size,:], df_close[train_size:len(df_close),:1]\n",
    "train_data.shape, test_data.shape"
   ]
  },
  {
   "cell_type": "code",
   "execution_count": 7,
   "metadata": {},
   "outputs": [],
   "source": [
    "def create_dataset(dataset, time_step=1):\n",
    "    dataX, dataY = [], []\n",
    "    for i in range(len(dataset)-time_step-1):\n",
    "        a = dataset[i:(i+time_step), 0]\n",
    "        dataX.append(a)\n",
    "        dataY.append(dataset[i+time_step, 0])\n",
    "    return np.array(dataX), np.array(dataY)"
   ]
  },
  {
   "cell_type": "code",
   "execution_count": 8,
   "metadata": {},
   "outputs": [],
   "source": [
    "time_step = 100\n",
    "X_train, y_train = create_dataset(train_data, time_step)\n",
    "X_test, y_test = create_dataset(test_data, time_step)\n"
   ]
  },
  {
   "cell_type": "code",
   "execution_count": 9,
   "metadata": {},
   "outputs": [
    {
     "name": "stdout",
     "output_type": "stream",
     "text": [
      "(716, 100) (716,)\n",
      "(340, 100) (340,)\n"
     ]
    }
   ],
   "source": [
    "print(X_train.shape, y_train.shape)\n",
    "print(X_test.shape, y_test.shape)"
   ]
  },
  {
   "cell_type": "markdown",
   "metadata": {},
   "source": [
    "# Creating Model"
   ]
  },
  {
   "cell_type": "code",
   "execution_count": 10,
   "metadata": {},
   "outputs": [
    {
     "name": "stderr",
     "output_type": "stream",
     "text": [
      "2024-04-08 11:04:59.838584: I tensorflow/core/common_runtime/gpu/gpu_device.cc:1929] Created device /job:localhost/replica:0/task:0/device:GPU:0 with 2794 MB memory:  -> device: 0, name: NVIDIA GeForce GTX 1650, pci bus id: 0000:01:00.0, compute capability: 7.5\n"
     ]
    },
    {
     "name": "stderr",
     "output_type": "stream",
     "text": [
      "2024-04-08 11:05:00.224693: I external/local_tsl/tsl/platform/default/subprocess.cc:304] Start cannot spawn child process: No such file or directory\n"
     ]
    },
    {
     "name": "stdout",
     "output_type": "stream",
     "text": [
      "Model: \"sequential\"\n",
      "_________________________________________________________________\n",
      " Layer (type)                Output Shape              Param #   \n",
      "=================================================================\n",
      " lstm (LSTM)                 (None, 100, 50)           10400     \n",
      "                                                                 \n",
      " lstm_1 (LSTM)               (None, 100, 50)           20200     \n",
      "                                                                 \n",
      " lstm_2 (LSTM)               (None, 50)                20200     \n",
      "                                                                 \n",
      " dense (Dense)               (None, 1)                 51        \n",
      "                                                                 \n",
      "=================================================================\n",
      "Total params: 50851 (198.64 KB)\n",
      "Trainable params: 50851 (198.64 KB)\n",
      "Non-trainable params: 0 (0.00 Byte)\n",
      "_________________________________________________________________\n"
     ]
    }
   ],
   "source": [
    "model = Sequential()\n",
    "model.add(LSTM(50, return_sequences=True, input_shape=(100,1)))\n",
    "model.add(LSTM(50, return_sequences=True))\n",
    "model.add(LSTM(50))\n",
    "model.add(Dense(1))\n",
    "model.compile(optimizer='adam', loss='mean_squared_error')\n",
    "\n",
    "model.summary()"
   ]
  },
  {
   "cell_type": "code",
   "execution_count": 11,
   "metadata": {},
   "outputs": [
    {
     "name": "stdout",
     "output_type": "stream",
     "text": [
      "Epoch 1/100\n"
     ]
    },
    {
     "name": "stderr",
     "output_type": "stream",
     "text": [
      "2024-04-08 11:05:07.030725: I external/local_xla/xla/stream_executor/cuda/cuda_dnn.cc:454] Loaded cuDNN version 8904\n",
      "2024-04-08 11:05:07.947521: I external/local_xla/xla/service/service.cc:168] XLA service 0x7f5b100a7190 initialized for platform CUDA (this does not guarantee that XLA will be used). Devices:\n",
      "2024-04-08 11:05:07.947561: I external/local_xla/xla/service/service.cc:176]   StreamExecutor device (0): NVIDIA GeForce GTX 1650, Compute Capability 7.5\n",
      "2024-04-08 11:05:07.964127: I tensorflow/compiler/mlir/tensorflow/utils/dump_mlir_util.cc:269] disabling MLIR crash reproducer, set env var `MLIR_CRASH_REPRODUCER_DIRECTORY` to enable.\n",
      "WARNING: All log messages before absl::InitializeLog() is called are written to STDERR\n",
      "I0000 00:00:1712554508.133779    6174 device_compiler.h:186] Compiled cluster using XLA!  This line is logged at most once for the lifetime of the process.\n"
     ]
    },
    {
     "name": "stdout",
     "output_type": "stream",
     "text": [
      "12/12 [==============================] - 9s 134ms/step - loss: 0.0287 - val_loss: 7.8353e-04\n",
      "Epoch 2/100\n",
      "12/12 [==============================] - 0s 23ms/step - loss: 0.0131 - val_loss: 0.0017\n",
      "Epoch 3/100\n",
      "12/12 [==============================] - 0s 23ms/step - loss: 0.0114 - val_loss: 3.4112e-04\n",
      "Epoch 4/100\n",
      "12/12 [==============================] - 0s 23ms/step - loss: 0.0098 - val_loss: 9.6441e-04\n",
      "Epoch 5/100\n",
      "12/12 [==============================] - 0s 29ms/step - loss: 0.0090 - val_loss: 0.0011\n",
      "Epoch 6/100\n",
      "12/12 [==============================] - 0s 28ms/step - loss: 0.0072 - val_loss: 2.6428e-04\n",
      "Epoch 7/100\n",
      "12/12 [==============================] - 0s 29ms/step - loss: 0.0063 - val_loss: 4.3911e-04\n",
      "Epoch 8/100\n",
      "12/12 [==============================] - 0s 40ms/step - loss: 0.0057 - val_loss: 2.6526e-04\n",
      "Epoch 9/100\n",
      "12/12 [==============================] - 0s 29ms/step - loss: 0.0051 - val_loss: 8.3447e-04\n",
      "Epoch 10/100\n",
      "12/12 [==============================] - 0s 30ms/step - loss: 0.0048 - val_loss: 4.9688e-04\n",
      "Epoch 11/100\n",
      "12/12 [==============================] - 0s 29ms/step - loss: 0.0042 - val_loss: 4.4330e-04\n",
      "Epoch 12/100\n",
      "12/12 [==============================] - 0s 28ms/step - loss: 0.0038 - val_loss: 5.5568e-04\n",
      "Epoch 13/100\n",
      "12/12 [==============================] - 0s 27ms/step - loss: 0.0044 - val_loss: 8.6654e-04\n",
      "Epoch 14/100\n",
      "12/12 [==============================] - 0s 26ms/step - loss: 0.0035 - val_loss: 3.5357e-04\n",
      "Epoch 15/100\n",
      "12/12 [==============================] - 0s 25ms/step - loss: 0.0032 - val_loss: 2.2309e-04\n",
      "Epoch 16/100\n",
      "12/12 [==============================] - 0s 25ms/step - loss: 0.0033 - val_loss: 3.3015e-04\n",
      "Epoch 17/100\n",
      "12/12 [==============================] - 0s 29ms/step - loss: 0.0032 - val_loss: 3.6680e-04\n",
      "Epoch 18/100\n",
      "12/12 [==============================] - 0s 26ms/step - loss: 0.0031 - val_loss: 1.7429e-04\n",
      "Epoch 19/100\n",
      "12/12 [==============================] - 0s 25ms/step - loss: 0.0033 - val_loss: 1.5389e-04\n",
      "Epoch 20/100\n",
      "12/12 [==============================] - 0s 31ms/step - loss: 0.0033 - val_loss: 4.7791e-04\n",
      "Epoch 21/100\n",
      "12/12 [==============================] - 0s 25ms/step - loss: 0.0033 - val_loss: 1.5671e-04\n",
      "Epoch 22/100\n",
      "12/12 [==============================] - 0s 25ms/step - loss: 0.0028 - val_loss: 1.6657e-04\n",
      "Epoch 23/100\n",
      "12/12 [==============================] - 0s 25ms/step - loss: 0.0021 - val_loss: 4.1308e-04\n",
      "Epoch 24/100\n",
      "12/12 [==============================] - 0s 24ms/step - loss: 0.0036 - val_loss: 5.9503e-04\n",
      "Epoch 25/100\n",
      "12/12 [==============================] - 0s 25ms/step - loss: 0.0033 - val_loss: 2.2457e-04\n",
      "Epoch 26/100\n",
      "12/12 [==============================] - 0s 25ms/step - loss: 0.0030 - val_loss: 2.0210e-04\n",
      "Epoch 27/100\n",
      "12/12 [==============================] - 0s 24ms/step - loss: 0.0026 - val_loss: 2.5660e-04\n",
      "Epoch 28/100\n",
      "12/12 [==============================] - 0s 25ms/step - loss: 0.0023 - val_loss: 2.0053e-04\n",
      "Epoch 29/100\n",
      "12/12 [==============================] - 0s 24ms/step - loss: 0.0027 - val_loss: 4.1786e-04\n",
      "Epoch 30/100\n",
      "12/12 [==============================] - 0s 25ms/step - loss: 0.0033 - val_loss: 2.0899e-04\n",
      "Epoch 31/100\n",
      "12/12 [==============================] - 0s 25ms/step - loss: 0.0022 - val_loss: 1.4839e-04\n",
      "Epoch 32/100\n",
      "12/12 [==============================] - 0s 25ms/step - loss: 0.0025 - val_loss: 1.7782e-04\n",
      "Epoch 33/100\n",
      "12/12 [==============================] - 0s 27ms/step - loss: 0.0019 - val_loss: 1.7440e-04\n",
      "Epoch 34/100\n",
      "12/12 [==============================] - 0s 25ms/step - loss: 0.0018 - val_loss: 1.7152e-04\n",
      "Epoch 35/100\n",
      "12/12 [==============================] - 0s 25ms/step - loss: 0.0020 - val_loss: 1.7013e-04\n",
      "Epoch 36/100\n",
      "12/12 [==============================] - 0s 24ms/step - loss: 0.0026 - val_loss: 2.5335e-04\n",
      "Epoch 37/100\n",
      "12/12 [==============================] - 0s 24ms/step - loss: 0.0023 - val_loss: 1.9845e-04\n",
      "Epoch 38/100\n",
      "12/12 [==============================] - 0s 25ms/step - loss: 0.0018 - val_loss: 2.2998e-04\n",
      "Epoch 39/100\n",
      "12/12 [==============================] - 0s 25ms/step - loss: 0.0022 - val_loss: 3.9150e-04\n",
      "Epoch 40/100\n",
      "12/12 [==============================] - 0s 24ms/step - loss: 0.0018 - val_loss: 2.3079e-04\n",
      "Epoch 41/100\n",
      "12/12 [==============================] - 0s 25ms/step - loss: 0.0018 - val_loss: 1.9262e-04\n",
      "Epoch 42/100\n",
      "12/12 [==============================] - 0s 25ms/step - loss: 0.0020 - val_loss: 1.9414e-04\n",
      "Epoch 43/100\n",
      "12/12 [==============================] - 0s 24ms/step - loss: 0.0018 - val_loss: 1.5300e-04\n",
      "Epoch 44/100\n",
      "12/12 [==============================] - 0s 25ms/step - loss: 0.0016 - val_loss: 1.7884e-04\n",
      "Epoch 45/100\n",
      "12/12 [==============================] - 0s 25ms/step - loss: 0.0023 - val_loss: 3.2849e-04\n",
      "Epoch 46/100\n",
      "12/12 [==============================] - 0s 25ms/step - loss: 0.0024 - val_loss: 2.8005e-04\n",
      "Epoch 47/100\n",
      "12/12 [==============================] - 0s 24ms/step - loss: 0.0018 - val_loss: 1.5375e-04\n",
      "Epoch 48/100\n",
      "12/12 [==============================] - 0s 26ms/step - loss: 0.0016 - val_loss: 3.0722e-04\n",
      "Epoch 49/100\n",
      "12/12 [==============================] - 0s 24ms/step - loss: 0.0015 - val_loss: 2.3032e-04\n",
      "Epoch 50/100\n",
      "12/12 [==============================] - 0s 25ms/step - loss: 0.0017 - val_loss: 1.4720e-04\n",
      "Epoch 51/100\n",
      "12/12 [==============================] - 0s 24ms/step - loss: 0.0029 - val_loss: 7.1071e-04\n",
      "Epoch 52/100\n",
      "12/12 [==============================] - 0s 24ms/step - loss: 0.0020 - val_loss: 1.8275e-04\n",
      "Epoch 53/100\n",
      "12/12 [==============================] - 0s 24ms/step - loss: 0.0019 - val_loss: 1.5422e-04\n",
      "Epoch 54/100\n",
      "12/12 [==============================] - 0s 25ms/step - loss: 0.0020 - val_loss: 1.4695e-04\n",
      "Epoch 55/100\n",
      "12/12 [==============================] - 0s 24ms/step - loss: 0.0015 - val_loss: 2.2789e-04\n",
      "Epoch 56/100\n",
      "12/12 [==============================] - 0s 24ms/step - loss: 0.0017 - val_loss: 1.4978e-04\n",
      "Epoch 57/100\n",
      "12/12 [==============================] - 0s 25ms/step - loss: 0.0019 - val_loss: 1.5287e-04\n",
      "Epoch 58/100\n",
      "12/12 [==============================] - 0s 25ms/step - loss: 0.0013 - val_loss: 1.5685e-04\n",
      "Epoch 59/100\n",
      "12/12 [==============================] - 0s 25ms/step - loss: 0.0013 - val_loss: 2.4187e-04\n",
      "Epoch 60/100\n",
      "12/12 [==============================] - 0s 24ms/step - loss: 0.0015 - val_loss: 1.6946e-04\n",
      "Epoch 61/100\n",
      "12/12 [==============================] - 0s 24ms/step - loss: 0.0020 - val_loss: 1.6165e-04\n",
      "Epoch 62/100\n",
      "12/12 [==============================] - 0s 25ms/step - loss: 0.0014 - val_loss: 2.3221e-04\n",
      "Epoch 63/100\n",
      "12/12 [==============================] - 0s 24ms/step - loss: 0.0015 - val_loss: 2.2974e-04\n",
      "Epoch 64/100\n",
      "12/12 [==============================] - 0s 28ms/step - loss: 0.0022 - val_loss: 1.7516e-04\n",
      "Epoch 65/100\n",
      "12/12 [==============================] - 0s 24ms/step - loss: 0.0016 - val_loss: 1.4608e-04\n",
      "Epoch 66/100\n",
      "12/12 [==============================] - 0s 24ms/step - loss: 0.0018 - val_loss: 2.2990e-04\n",
      "Epoch 67/100\n",
      "12/12 [==============================] - 0s 25ms/step - loss: 0.0030 - val_loss: 1.6499e-04\n",
      "Epoch 68/100\n",
      "12/12 [==============================] - 0s 25ms/step - loss: 0.0016 - val_loss: 2.4303e-04\n",
      "Epoch 69/100\n",
      "12/12 [==============================] - 0s 25ms/step - loss: 0.0018 - val_loss: 3.1056e-04\n",
      "Epoch 70/100\n",
      "12/12 [==============================] - 0s 26ms/step - loss: 0.0014 - val_loss: 1.4329e-04\n",
      "Epoch 71/100\n",
      "12/12 [==============================] - 0s 29ms/step - loss: 0.0015 - val_loss: 1.3995e-04\n",
      "Epoch 72/100\n",
      "12/12 [==============================] - 0s 26ms/step - loss: 0.0012 - val_loss: 1.7972e-04\n",
      "Epoch 73/100\n",
      "12/12 [==============================] - 0s 27ms/step - loss: 0.0013 - val_loss: 1.4234e-04\n",
      "Epoch 74/100\n",
      "12/12 [==============================] - 0s 27ms/step - loss: 0.0015 - val_loss: 1.6080e-04\n",
      "Epoch 75/100\n",
      "12/12 [==============================] - 0s 25ms/step - loss: 0.0043 - val_loss: 1.6197e-04\n",
      "Epoch 76/100\n",
      "12/12 [==============================] - 0s 26ms/step - loss: 0.0034 - val_loss: 5.8971e-04\n",
      "Epoch 77/100\n",
      "12/12 [==============================] - 0s 26ms/step - loss: 0.0025 - val_loss: 1.6201e-04\n",
      "Epoch 78/100\n",
      "12/12 [==============================] - 0s 24ms/step - loss: 0.0019 - val_loss: 2.7461e-04\n",
      "Epoch 79/100\n",
      "12/12 [==============================] - 0s 26ms/step - loss: 0.0028 - val_loss: 1.4700e-04\n",
      "Epoch 80/100\n",
      "12/12 [==============================] - 0s 25ms/step - loss: 0.0035 - val_loss: 0.0010\n",
      "Epoch 81/100\n",
      "12/12 [==============================] - 0s 24ms/step - loss: 0.0028 - val_loss: 1.3668e-04\n",
      "Epoch 82/100\n",
      "12/12 [==============================] - 0s 25ms/step - loss: 0.0022 - val_loss: 1.2067e-04\n",
      "Epoch 83/100\n",
      "12/12 [==============================] - 0s 24ms/step - loss: 0.0020 - val_loss: 3.2752e-04\n",
      "Epoch 84/100\n",
      "12/12 [==============================] - 0s 24ms/step - loss: 0.0020 - val_loss: 1.5045e-04\n",
      "Epoch 85/100\n",
      "12/12 [==============================] - 0s 25ms/step - loss: 0.0020 - val_loss: 1.4433e-04\n",
      "Epoch 86/100\n",
      "12/12 [==============================] - 0s 24ms/step - loss: 0.0019 - val_loss: 1.2506e-04\n",
      "Epoch 87/100\n",
      "12/12 [==============================] - 0s 25ms/step - loss: 0.0014 - val_loss: 1.1881e-04\n",
      "Epoch 88/100\n",
      "12/12 [==============================] - 0s 25ms/step - loss: 0.0014 - val_loss: 1.1690e-04\n",
      "Epoch 89/100\n",
      "12/12 [==============================] - 0s 24ms/step - loss: 0.0012 - val_loss: 1.1735e-04\n",
      "Epoch 90/100\n",
      "12/12 [==============================] - 0s 25ms/step - loss: 0.0011 - val_loss: 1.1728e-04\n",
      "Epoch 91/100\n",
      "12/12 [==============================] - 0s 25ms/step - loss: 0.0012 - val_loss: 1.5458e-04\n",
      "Epoch 92/100\n",
      "12/12 [==============================] - 0s 25ms/step - loss: 0.0012 - val_loss: 1.1494e-04\n",
      "Epoch 93/100\n",
      "12/12 [==============================] - 0s 31ms/step - loss: 9.7324e-04 - val_loss: 1.3954e-04\n",
      "Epoch 94/100\n",
      "12/12 [==============================] - 0s 27ms/step - loss: 0.0012 - val_loss: 1.2417e-04\n",
      "Epoch 95/100\n",
      "12/12 [==============================] - 0s 24ms/step - loss: 0.0012 - val_loss: 2.8964e-04\n",
      "Epoch 96/100\n",
      "12/12 [==============================] - 0s 25ms/step - loss: 0.0011 - val_loss: 1.2333e-04\n",
      "Epoch 97/100\n",
      "12/12 [==============================] - 0s 25ms/step - loss: 0.0010 - val_loss: 1.2314e-04\n",
      "Epoch 98/100\n",
      "12/12 [==============================] - 0s 24ms/step - loss: 8.9866e-04 - val_loss: 1.1661e-04\n",
      "Epoch 99/100\n",
      "12/12 [==============================] - 0s 24ms/step - loss: 0.0012 - val_loss: 1.8689e-04\n",
      "Epoch 100/100\n",
      "12/12 [==============================] - 0s 25ms/step - loss: 0.0014 - val_loss: 3.3080e-04\n"
     ]
    },
    {
     "data": {
      "text/plain": [
       "<keras.src.callbacks.History at 0x7f5bef4c1700>"
      ]
     },
     "execution_count": 11,
     "metadata": {},
     "output_type": "execute_result"
    }
   ],
   "source": [
    "model.fit(X_train, y_train, validation_data=(X_test, y_test), epochs=100, verbose=1)"
   ]
  },
  {
   "cell_type": "code",
   "execution_count": 12,
   "metadata": {},
   "outputs": [
    {
     "name": "stdout",
     "output_type": "stream",
     "text": [
      "23/23 [==============================] - 2s 12ms/step\n",
      "11/11 [==============================] - 0s 8ms/step\n"
     ]
    }
   ],
   "source": [
    "train_predict = model.predict(X_train)\n",
    "test_predict = model.predict(X_test)"
   ]
  },
  {
   "cell_type": "code",
   "execution_count": 13,
   "metadata": {},
   "outputs": [],
   "source": [
    "train_predict = scaler.inverse_transform(train_predict)\n",
    "test_predict = scaler.inverse_transform(test_predict)"
   ]
  },
  {
   "cell_type": "code",
   "execution_count": 14,
   "metadata": {},
   "outputs": [
    {
     "data": {
      "text/plain": [
       "208.29401335876247"
      ]
     },
     "execution_count": 14,
     "metadata": {},
     "output_type": "execute_result"
    }
   ],
   "source": [
    "math.sqrt(mean_squared_error(y_train, train_predict))"
   ]
  },
  {
   "cell_type": "code",
   "execution_count": 15,
   "metadata": {},
   "outputs": [
    {
     "data": {
      "text/plain": [
       "166.52768410022856"
      ]
     },
     "execution_count": 15,
     "metadata": {},
     "output_type": "execute_result"
    }
   ],
   "source": [
    "math.sqrt(mean_squared_error(y_test, test_predict))"
   ]
  },
  {
   "cell_type": "markdown",
   "metadata": {},
   "source": [
    "# Predicting the test data and plotting the output"
   ]
  },
  {
   "cell_type": "code",
   "execution_count": 16,
   "metadata": {},
   "outputs": [
    {
     "data": {
      "image/png": "[encoded data removed]",
      "text/plain": [
       "<Figure size 640x480 with 1 Axes>"
      ]
     },
     "metadata": {},
     "output_type": "display_data"
    }
   ],
   "source": [
    "look_back = 100\n",
    "trainPredictPlot = np.empty_like(df_close)\n",
    "trainPredictPlot[:,:] = np.nan\n",
    "trainPredictPlot[look_back:len(train_predict)+look_back, :] = train_predict\n",
    "\n",
    "testPredictPlot = np.empty_like(df_close)\n",
    "testPredictPlot[:,:] = np.nan\n",
    "testPredictPlot[len(train_predict)+(look_back*2)+1:len(df_close)-1, :] = test_predict\n",
    "\n",
    "plt.plot(scaler.inverse_transform(df_close))\n",
    "plt.plot(trainPredictPlot)\n",
    "plt.plot(testPredictPlot)\n",
    "plt.show()\n"
   ]
  },
  {
   "cell_type": "markdown",
   "metadata": {},
   "source": [
    "# Predicting for the next 30 days"
   ]
  },
  {
   "cell_type": "code",
   "execution_count": 17,
   "metadata": {},
   "outputs": [
    {
     "data": {
      "text/plain": [
       "(1, 100)"
      ]
     },
     "execution_count": 17,
     "metadata": {},
     "output_type": "execute_result"
    }
   ],
   "source": [
    "x_input=test_data[341:].reshape(1,-1)\n",
    "x_input.shape\n"
   ]
  },
  {
   "cell_type": "code",
   "execution_count": 18,
   "metadata": {},
   "outputs": [],
   "source": [
    "temp_input=list(x_input)\n",
    "temp_input=temp_input[0].tolist()"
   ]
  },
  {
   "cell_type": "code",
   "execution_count": 19,
   "metadata": {},
   "outputs": [
    {
     "data": {
      "text/plain": [
       "[0.19927363807138382,\n",
       " 0.19526612398246712,\n",
       " 0.20187852222917968,\n",
       " 0.20330619912335623,\n",
       " 0.2075641828428303,\n",
       " 0.2075140889167188,\n",
       " 0.21192235441452717,\n",
       " 0.20989355040701307,\n",
       " 0.211571696931747,\n",
       " 0.20821540388227922,\n",
       " 0.2077645585472761,\n",
       " 0.2092924232936756,\n",
       " 0.20671258609893545,\n",
       " 0.20816530995616772,\n",
       " 0.2113963681903569,\n",
       " 0.20686286787726987,\n",
       " 0.21685660613650587,\n",
       " 0.21410144020037564,\n",
       " 0.21898559799624295,\n",
       " 0.22259236067626798,\n",
       " 0.21625547902316838,\n",
       " 0.22008766437069505,\n",
       " 0.2282279273638071,\n",
       " 0.22860363180964305,\n",
       " 0.2272510958046336,\n",
       " 0.22304320601127103,\n",
       " 0.22567313713212267,\n",
       " 0.2203882279273638,\n",
       " 0.22001252348152783,\n",
       " 0.21730745147150904,\n",
       " 0.21592986850344392,\n",
       " 0.21618033813400123,\n",
       " 0.2172573575453976,\n",
       " 0.21462742642454596,\n",
       " 0.19737006887914832,\n",
       " 0.19388854101440195,\n",
       " 0.18802755165936125,\n",
       " 0.18619912335629302,\n",
       " 0.1971696931747025,\n",
       " 0.19611772072636185,\n",
       " 0.1987476518472135,\n",
       " 0.19724483406386972,\n",
       " 0.19807138384470874,\n",
       " 0.19233562930494674,\n",
       " 0.18995616781465247,\n",
       " 0.20485911083281144,\n",
       " 0.21219787100814025,\n",
       " 0.21803381340012518,\n",
       " 0.2212648716343143,\n",
       " 0.21956167814652466,\n",
       " 0.2187351283656856,\n",
       " 0.21435190983093294,\n",
       " 0.2126236693800876,\n",
       " 0.2033813400125234,\n",
       " 0.1942642454602379,\n",
       " 0.2004257983719474,\n",
       " 0.19789605510331865,\n",
       " 0.20247964934251717,\n",
       " 0.20653725735754536,\n",
       " 0.20681277395115838,\n",
       " 0.20408265497808387,\n",
       " 0.2054101440200375,\n",
       " 0.20115216030056354,\n",
       " 0.19586725109580455,\n",
       " 0.1936380713838447,\n",
       " 0.19291170945522856,\n",
       " 0.18902943018159046,\n",
       " 0.18715090795241074,\n",
       " 0.18905447714464613,\n",
       " 0.19418910457107075,\n",
       " 0.1895554164057608,\n",
       " 0.18614902943018152,\n",
       " 0.18983093299937376,\n",
       " 0.1868002504696305,\n",
       " 0.18512210394489664,\n",
       " 0.18239198497182213,\n",
       " 0.17097056981840947,\n",
       " 0.1584971822166562,\n",
       " 0.15599248591108322,\n",
       " 0.15569192235441448,\n",
       " 0.16002504696305564,\n",
       " 0.16508453350031305,\n",
       " 0.16628678772698802,\n",
       " 0.16102692548528486,\n",
       " 0.1657107075767063,\n",
       " 0.16475892298058858,\n",
       " 0.16751408891671882,\n",
       " 0.173425172197871,\n",
       " 0.17991233562930486,\n",
       " 0.1616280525986224,\n",
       " 0.16390732623669374,\n",
       " 0.16032561051972444,\n",
       " 0.15747025673137127,\n",
       " 0.16648716343143388,\n",
       " 0.16190356919223536,\n",
       " 0.15827175954915462,\n",
       " 0.1552911709455228,\n",
       " 0.1573199749530369,\n",
       " 0.1552410770194113,\n",
       " 0.1571446462116468]"
      ]
     },
     "execution_count": 19,
     "metadata": {},
     "output_type": "execute_result"
    }
   ],
   "source": [
    "temp_input"
   ]
  },
  {
   "cell_type": "code",
   "execution_count": 20,
   "metadata": {},
   "outputs": [],
   "source": [
    "# x_input = test_data[341:].reshape(1,-1)\n",
    "# temp_input = list(x_input)\n",
    "\n",
    "# temp_input = temp_input[0].tolist()\n"
   ]
  },
  {
   "cell_type": "code",
   "execution_count": 21,
   "metadata": {},
   "outputs": [
    {
     "ename": "TypeError",
     "evalue": "in user code:\n\n    File \"/home/shounakpaul/Documents/Code/Machine Learning/.venv/lib64/python3.9/site-packages/keras/src/engine/training.py\", line 2440, in predict_function  *\n        return step_function(self, iterator)\n    File \"/home/shounakpaul/Documents/Code/Machine Learning/.venv/lib64/python3.9/site-packages/keras/src/engine/training.py\", line 2425, in step_function  **\n        outputs = model.distribute_strategy.run(run_step, args=(data,))\n    File \"/home/shounakpaul/Documents/Code/Machine Learning/.venv/lib64/python3.9/site-packages/keras/src/engine/training.py\", line 2413, in run_step  **\n        outputs = model.predict_step(data)\n    File \"/home/shounakpaul/Documents/Code/Machine Learning/.venv/lib64/python3.9/site-packages/keras/src/engine/training.py\", line 2381, in predict_step\n        return self(x, training=False)\n    File \"/home/shounakpaul/Documents/Code/Machine Learning/.venv/lib64/python3.9/site-packages/keras/src/utils/traceback_utils.py\", line 70, in error_handler\n        raise e.with_traceback(filtered_tb) from None\n    File \"/home/shounakpaul/Documents/Code/Machine Learning/.venv/lib64/python3.9/site-packages/keras/src/layers/rnn/lstm.py\", line 616, in call\n        timesteps = input_shape[0] if self.time_major else input_shape[1]\n\n    TypeError: Exception encountered when calling layer 'lstm' (type LSTM).\n    \n    'NoneType' object is not subscriptable\n    \n    Call arguments received by layer 'lstm' (type LSTM):\n      • inputs=tf.Tensor(shape=<unknown>, dtype=float32)\n      • mask=None\n      • training=False\n      • initial_state=None\n",
     "output_type": "error",
     "traceback": [
      "\u001b[0;31m---------------------------------------------------------------------------\u001b[0m",
      "\u001b[0;31mTypeError\u001b[0m                                 Traceback (most recent call last)",
      "Cell \u001b[0;32mIn[21], line 19\u001b[0m\n\u001b[1;32m     17\u001b[0m x_input \u001b[38;5;241m=\u001b[39m np\u001b[38;5;241m.\u001b[39marray(temp_input)\n\u001b[1;32m     18\u001b[0m x_input \u001b[38;5;241m=\u001b[39m x_input\u001b[38;5;241m.\u001b[39mreshape((\u001b[38;5;241m1\u001b[39m, \u001b[38;5;28mlen\u001b[39m(temp_input), \u001b[38;5;241m1\u001b[39m))  \u001b[38;5;66;03m# Reshape to match model's input shape\u001b[39;00m\n\u001b[0;32m---> 19\u001b[0m yhat \u001b[38;5;241m=\u001b[39m \u001b[43mmodel\u001b[49m\u001b[38;5;241;43m.\u001b[39;49m\u001b[43mpredict\u001b[49m\u001b[43m(\u001b[49m\u001b[43mx_input\u001b[49m\u001b[43m,\u001b[49m\u001b[43m \u001b[49m\u001b[43mverbose\u001b[49m\u001b[38;5;241;43m=\u001b[39;49m\u001b[38;5;241;43m0\u001b[39;49m\u001b[43m)\u001b[49m\n\u001b[1;32m     20\u001b[0m \u001b[38;5;28mprint\u001b[39m(\u001b[38;5;124m\"\u001b[39m\u001b[38;5;132;01m{}\u001b[39;00m\u001b[38;5;124m day output \u001b[39m\u001b[38;5;132;01m{}\u001b[39;00m\u001b[38;5;124m\"\u001b[39m\u001b[38;5;241m.\u001b[39mformat(i, yhat))\n\u001b[1;32m     21\u001b[0m temp_input\u001b[38;5;241m.\u001b[39mextend(yhat[\u001b[38;5;241m0\u001b[39m]\u001b[38;5;241m.\u001b[39mtolist())\n",
      "File \u001b[0;32m~/Documents/Code/Machine Learning/.venv/lib64/python3.9/site-packages/keras/src/utils/traceback_utils.py:70\u001b[0m, in \u001b[0;36mfilter_traceback.<locals>.error_handler\u001b[0;34m(*args, **kwargs)\u001b[0m\n\u001b[1;32m     67\u001b[0m     filtered_tb \u001b[38;5;241m=\u001b[39m _process_traceback_frames(e\u001b[38;5;241m.\u001b[39m__traceback__)\n\u001b[1;32m     68\u001b[0m     \u001b[38;5;66;03m# To get the full stack trace, call:\u001b[39;00m\n\u001b[1;32m     69\u001b[0m     \u001b[38;5;66;03m# `tf.debugging.disable_traceback_filtering()`\u001b[39;00m\n\u001b[0;32m---> 70\u001b[0m     \u001b[38;5;28;01mraise\u001b[39;00m e\u001b[38;5;241m.\u001b[39mwith_traceback(filtered_tb) \u001b[38;5;28;01mfrom\u001b[39;00m \u001b[38;5;28;01mNone\u001b[39;00m\n\u001b[1;32m     71\u001b[0m \u001b[38;5;28;01mfinally\u001b[39;00m:\n\u001b[1;32m     72\u001b[0m     \u001b[38;5;28;01mdel\u001b[39;00m filtered_tb\n",
      "File \u001b[0;32m/tmp/__autograph_generated_file7v03kp6d.py:15\u001b[0m, in \u001b[0;36mouter_factory.<locals>.inner_factory.<locals>.tf__predict_function\u001b[0;34m(iterator)\u001b[0m\n\u001b[1;32m     13\u001b[0m \u001b[38;5;28;01mtry\u001b[39;00m:\n\u001b[1;32m     14\u001b[0m     do_return \u001b[38;5;241m=\u001b[39m \u001b[38;5;28;01mTrue\u001b[39;00m\n\u001b[0;32m---> 15\u001b[0m     retval_ \u001b[38;5;241m=\u001b[39m ag__\u001b[38;5;241m.\u001b[39mconverted_call(ag__\u001b[38;5;241m.\u001b[39mld(step_function), (ag__\u001b[38;5;241m.\u001b[39mld(\u001b[38;5;28mself\u001b[39m), ag__\u001b[38;5;241m.\u001b[39mld(iterator)), \u001b[38;5;28;01mNone\u001b[39;00m, fscope)\n\u001b[1;32m     16\u001b[0m \u001b[38;5;28;01mexcept\u001b[39;00m:\n\u001b[1;32m     17\u001b[0m     do_return \u001b[38;5;241m=\u001b[39m \u001b[38;5;28;01mFalse\u001b[39;00m\n",
      "\u001b[0;31mTypeError\u001b[0m: in user code:\n\n    File \"/home/shounakpaul/Documents/Code/Machine Learning/.venv/lib64/python3.9/site-packages/keras/src/engine/training.py\", line 2440, in predict_function  *\n        return step_function(self, iterator)\n    File \"/home/shounakpaul/Documents/Code/Machine Learning/.venv/lib64/python3.9/site-packages/keras/src/engine/training.py\", line 2425, in step_function  **\n        outputs = model.distribute_strategy.run(run_step, args=(data,))\n    File \"/home/shounakpaul/Documents/Code/Machine Learning/.venv/lib64/python3.9/site-packages/keras/src/engine/training.py\", line 2413, in run_step  **\n        outputs = model.predict_step(data)\n    File \"/home/shounakpaul/Documents/Code/Machine Learning/.venv/lib64/python3.9/site-packages/keras/src/engine/training.py\", line 2381, in predict_step\n        return self(x, training=False)\n    File \"/home/shounakpaul/Documents/Code/Machine Learning/.venv/lib64/python3.9/site-packages/keras/src/utils/traceback_utils.py\", line 70, in error_handler\n        raise e.with_traceback(filtered_tb) from None\n    File \"/home/shounakpaul/Documents/Code/Machine Learning/.venv/lib64/python3.9/site-packages/keras/src/layers/rnn/lstm.py\", line 616, in call\n        timesteps = input_shape[0] if self.time_major else input_shape[1]\n\n    TypeError: Exception encountered when calling layer 'lstm' (type LSTM).\n    \n    'NoneType' object is not subscriptable\n    \n    Call arguments received by layer 'lstm' (type LSTM):\n      • inputs=tf.Tensor(shape=<unknown>, dtype=float32)\n      • mask=None\n      • training=False\n      • initial_state=None\n"
     ]
    }
   ],
   "source": [
    "import numpy as np\n",
    "\n",
    "lst_output = []\n",
    "n_steps = 100\n",
    "i = 0\n",
    "\n",
    "while i < 30:\n",
    "    if len(temp_input) > n_steps:\n",
    "        x_input = np.array(temp_input[-n_steps:])  # Consider only the last n_steps elements\n",
    "        x_input = x_input.reshape((1, n_steps, 1))  # Reshape to match model's input shape\n",
    "        yhat = model.predict(x_input, verbose=0)\n",
    "        print(\"{} day output {}\".format(i, yhat))\n",
    "        temp_input.extend(yhat[0].tolist())\n",
    "        lst_output.extend(yhat.tolist())\n",
    "        i += 1\n",
    "    else:\n",
    "        x_input = np.array(temp_input)\n",
    "        x_input = x_input.reshape((1, len(temp_input), 1))  # Reshape to match model's input shape\n",
    "        yhat = model.predict(x_input, verbose=0)\n",
    "        print(\"{} day output {}\".format(i, yhat))\n",
    "        temp_input.extend(yhat[0].tolist())\n",
    "        lst_output.extend(yhat.tolist())\n",
    "        i += 1\n",
    "\n",
    "print(lst_output)\n"
   ]
  },
  {
   "cell_type": "code",
   "execution_count": null,
   "metadata": {},
   "outputs": [
    {
     "data": {
      "text/plain": [
       "1258"
      ]
     },
     "execution_count": 68,
     "metadata": {},
     "output_type": "execute_result"
    }
   ],
   "source": [
    "day_new = np.arange(1,101)\n",
    "day_pred = np.arange(101,131)\n",
    "\n",
    "len(df_close)"
   ]
  },
  {
   "cell_type": "code",
   "execution_count": null,
   "metadata": {},
   "outputs": [
    {
     "ename": "NameError",
     "evalue": "name 'lst_output' is not defined",
     "output_type": "error",
     "traceback": [
      "\u001b[0;31m---------------------------------------------------------------------------\u001b[0m",
      "\u001b[0;31mNameError\u001b[0m                                 Traceback (most recent call last)",
      "Cell \u001b[0;32mIn[69], line 2\u001b[0m\n\u001b[1;32m      1\u001b[0m plt\u001b[38;5;241m.\u001b[39mplot(day_new, scaler\u001b[38;5;241m.\u001b[39minverse_transform(df_close[\u001b[38;5;241m1158\u001b[39m:]))\n\u001b[0;32m----> 2\u001b[0m plt\u001b[38;5;241m.\u001b[39mplot(day_pred, scaler\u001b[38;5;241m.\u001b[39minverse_transform(\u001b[43mlst_output\u001b[49m))\n",
      "\u001b[0;31mNameError\u001b[0m: name 'lst_output' is not defined"
     ]
    },
    {
     "data": {
      "image/png": "[encoded data removed]",
      "text/plain": [
       "<Figure size 640x480 with 1 Axes>"
      ]
     },
     "metadata": {},
     "output_type": "display_data"
    }
   ],
   "source": [
    "plt.plot(day_new, scaler.inverse_transform(df_close[1158:]))\n",
    "plt.plot(day_pred, scaler.inverse_transform(lst_output))"
   ]
  },
  {
   "cell_type": "code",
   "execution_count": null,
   "metadata": {},
   "outputs": [],
   "source": []
  }
 ],
 "metadata": {
  "kernelspec": {
   "display_name": ".venv",
   "language": "python",
   "name": "python3"
  },
  "language_info": {
   "codemirror_mode": {
    "name": "ipython",
    "version": 3
   },
   "file_extension": ".py",
   "mimetype": "text/x-python",
   "name": "python",
   "nbconvert_exporter": "python",
   "pygments_lexer": "ipython3",
   "version": "3.9.18"
  }
 },
 "nbformat": 4,
 "nbformat_minor": 2
}
